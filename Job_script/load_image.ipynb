{
 "cells": [
  {
   "cell_type": "markdown",
   "metadata": {},
   "source": [
    "## Aims"
   ]
  },
  {
   "cell_type": "markdown",
   "metadata": {},
   "source": [
    "A program that can :\n",
    " \n",
    "- `Upload`: an image of a micrograph \n",
    "- `Crop`: the image to only relevant area\n",
    "- `Process`: Take scale bar to aid in comparison of images \n",
    "- `Process`: Identify indiviual Hydrides in microstructure  "
   ]
  },
  {
   "cell_type": "markdown",
   "metadata": {},
   "source": [
    "## Import Packages"
   ]
  },
  {
   "cell_type": "code",
   "execution_count": 8,
   "metadata": {},
   "outputs": [],
   "source": [
    "# We import the packages we need\n",
    "from matplotlib import pyplot as plt\n",
    "from PIL import Image\n",
    "import os, os.path\n",
    "import matplotlib.axes\n",
    "\n",
    "# And also we import the functions we have created, which are in the packages folder\n",
    "from packages import plot_image\n",
    "from Thresholding import Otsu_Thresholding as OT"
   ]
  },
  {
   "cell_type": "markdown",
   "metadata": {},
   "source": [
    "## Import the images from github"
   ]
  },
  {
   "cell_type": "markdown",
   "metadata": {},
   "source": [
    "- Import image [.jpg image] \n",
    "- Transpose the image to make the radial direction vertical. \n",
    "- Crop scale bar from image and/or crop image to a specific location. \n",
    "- Input Scale Bar Value, the scale bar will then be calculated."
   ]
  },
  {
   "cell_type": "code",
   "execution_count": 9,
   "metadata": {},
   "outputs": [],
   "source": [
    "# Introduce here the path where the images are located\n",
    "images_path = r\"C:\\Users\\a77510jm\\Documents\\GitHub\\Hydride-Connect-Group-2\\Job_script\\Micrographs\""
   ]
  },
  {
   "cell_type": "code",
   "execution_count": 10,
   "metadata": {},
   "outputs": [
    {
     "name": "stdout",
     "output_type": "stream",
     "text": [
      "Plotting image 1\n",
      "Plotting image 2\n",
      "Plotting image 3\n",
      "Plotting image 4\n",
      "Plotting image 5\n",
      "Plotting image 6\n",
      "Plotting image 7\n",
      "Plotting image 8\n",
      "Plotting image 9\n",
      "Plotting image 10\n",
      "Plotting image 11\n",
      "Plotting image 12\n",
      "Plotting image 13\n",
      "Plotting image 14\n",
      "Plotting image 15\n",
      "Plotting image 16\n"
     ]
    }
   ],
   "source": [
    "plot_image.plotim(images_path, valid_images= [\".jpg\",\".gif\",\".png\",\".tga\"])"
   ]
  },
  {
   "cell_type": "markdown",
   "metadata": {},
   "source": [
    "## Image Processing"
   ]
  },
  {
   "cell_type": "markdown",
   "metadata": {},
   "source": [
    "Produce a monochrome image where the hydrides are white, and the matrix is black. "
   ]
  },
  {
   "cell_type": "markdown",
   "metadata": {},
   "source": [
    "Crop image to remove scale bar."
   ]
  },
  {
   "cell_type": "code",
   "execution_count": null,
   "metadata": {},
   "outputs": [],
   "source": []
  },
  {
   "cell_type": "markdown",
   "metadata": {},
   "source": [
    "## Thresholding"
   ]
  },
  {
   "cell_type": "markdown",
   "metadata": {},
   "source": [
    "Thresholding - Remove un-wanted features such as X and Y from images.\n",
    "Side by side comparison to original image and image after thresholding method.\n",
    "Use 3 different thresholding method and see which one works best ."
   ]
  },
  {
   "cell_type": "code",
   "execution_count": null,
   "metadata": {},
   "outputs": [],
   "source": [
    "Otsu_Result = OT.Otsu(ImgProcessed)"
   ]
  },
  {
   "cell_type": "markdown",
   "metadata": {},
   "source": [
    "## Connecivity of Microstructure "
   ]
  },
  {
   "cell_type": "markdown",
   "metadata": {},
   "source": [
    "Asses interconnectivity between hydrides in the radial direction"
   ]
  },
  {
   "cell_type": "code",
   "execution_count": null,
   "metadata": {},
   "outputs": [],
   "source": []
  }
 ],
 "metadata": {
  "kernelspec": {
   "display_name": "Python 3",
   "language": "python",
   "name": "python3"
  },
  "language_info": {
   "codemirror_mode": {
    "name": "ipython",
    "version": 3
   },
   "file_extension": ".py",
   "mimetype": "text/x-python",
   "name": "python",
   "nbconvert_exporter": "python",
   "pygments_lexer": "ipython3",
   "version": "3.8.5"
  }
 },
 "nbformat": 4,
 "nbformat_minor": 4
}
