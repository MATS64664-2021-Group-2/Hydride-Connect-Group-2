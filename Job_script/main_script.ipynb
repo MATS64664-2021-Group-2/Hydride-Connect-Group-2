{
 "cells": [
  {
   "cell_type": "markdown",
   "metadata": {},
   "source": [
    "## Aims"
   ]
  },
  {
   "cell_type": "markdown",
   "metadata": {},
   "source": [
    "A program that can :\n",
    " \n",
    "- `Upload`: an image of a micrograph \n",
    "- `Crop`: the image to only relevant area\n",
    "- `Process`: Take scale bar to aid in comparison of images \n",
    "- `Process`: Identify indiviual Hydrides in microstructure  "
   ]
  },
  {
   "cell_type": "markdown",
   "metadata": {},
   "source": [
    "## Import Packages"
   ]
  },
  {
   "cell_type": "code",
   "execution_count": null,
   "metadata": {},
   "outputs": [],
   "source": [
    "# importing requests - taking information from web-pages \n",
    "import requests"
   ]
  },
  {
   "cell_type": "markdown",
   "metadata": {},
   "source": [
    "## Import the images from github"
   ]
  },
  {
   "cell_type": "markdown",
   "metadata": {},
   "source": [
    "- Import image [.jpg image] \n",
    "- Transpose the image to make the radial direction vertical. \n",
    "- Crop scale bar from image and/or crop image to a specific location. \n",
    "- Input Scale Bar Value, the scale bar will then be calculated."
   ]
  },
  {
   "cell_type": "code",
   "execution_count": 13,
   "metadata": {},
   "outputs": [],
   "source": [
    "#url_image = \"https://github.com/MATS64664-2021-Group-2/Sample-Micrographs/tree/main/Example%20Micrographs%20Python%20Course%20Pratheek\\chu2.jpg\"\n",
    "url_image = \"https://github.com/MATS64664-2021-Group-2/Sample-Micrographs.git\"\n",
    "image_name = \"chu2.jpg\""
   ]
  },
  {
   "cell_type": "code",
   "execution_count": 12,
   "metadata": {},
   "outputs": [],
   "source": [
    "image = requests.get(url_image).content\n",
    "with open(image_name, 'wb') as handler:\n",
    "    handler.write(image)"
   ]
  },
  {
   "cell_type": "markdown",
   "metadata": {},
   "source": [
    "## Image Processing"
   ]
  },
  {
   "cell_type": "markdown",
   "metadata": {},
   "source": [
    "Produce a monochrome image where the hydrides are white, and the matrix is black. "
   ]
  },
  {
   "cell_type": "markdown",
   "metadata": {},
   "source": [
    "Crop image to remove scale bar."
   ]
  },
  {
   "cell_type": "code",
   "execution_count": null,
   "metadata": {},
   "outputs": [],
   "source": []
  },
  {
   "cell_type": "markdown",
   "metadata": {},
   "source": [
    "Remove black background on micrograph"
   ]
  },
  {
   "cell_type": "code",
   "execution_count": null,
   "metadata": {},
   "outputs": [],
   "source": []
  },
  {
   "cell_type": "markdown",
   "metadata": {},
   "source": [
    "## Thresholding"
   ]
  },
  {
   "cell_type": "markdown",
   "metadata": {},
   "source": [
    "Thresholding - Remove un-wanted features such as X and Y from images.\n",
    "Side by side comparison to original image and image after thresholding method.\n",
    "Use 3 different thresholding method and see which one works best ."
   ]
  },
  {
   "cell_type": "code",
   "execution_count": null,
   "metadata": {},
   "outputs": [],
   "source": []
  },
  {
   "cell_type": "markdown",
   "metadata": {},
   "source": [
    "## Connecivity of Microstructure "
   ]
  },
  {
   "cell_type": "markdown",
   "metadata": {},
   "source": [
    "Asses interconnectivity between hydrides in the radial direction"
   ]
  },
  {
   "cell_type": "code",
   "execution_count": null,
   "metadata": {},
   "outputs": [],
   "source": []
  }
 ],
 "metadata": {
  "kernelspec": {
   "display_name": "Python 3",
   "language": "python",
   "name": "python3"
  },
  "language_info": {
   "codemirror_mode": {
    "name": "ipython",
    "version": 3
   },
   "file_extension": ".py",
   "mimetype": "text/x-python",
   "name": "python",
   "nbconvert_exporter": "python",
   "pygments_lexer": "ipython3",
   "version": "3.8.5"
  }
 },
 "nbformat": 4,
 "nbformat_minor": 4
}
